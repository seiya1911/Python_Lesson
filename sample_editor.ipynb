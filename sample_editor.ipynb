{
  "nbformat": 4,
  "nbformat_minor": 0,
  "metadata": {
    "kernelspec": {
      "display_name": "Python 3",
      "language": "python",
      "name": "python3"
    },
    "language_info": {
      "codemirror_mode": {
        "name": "ipython",
        "version": 3
      },
      "file_extension": ".py",
      "mimetype": "text/x-python",
      "name": "python",
      "nbconvert_exporter": "python",
      "pygments_lexer": "ipython3",
      "version": "3.7.0"
    },
    "toc": {
      "base_numbering": 1,
      "nav_menu": {},
      "number_sections": true,
      "sideBar": true,
      "skip_h1_title": false,
      "title_cell": "Table of Contents",
      "title_sidebar": "Contents",
      "toc_cell": false,
      "toc_position": {},
      "toc_section_display": true,
      "toc_window_display": false
    },
    "varInspector": {
      "cols": {
        "lenName": 16,
        "lenType": 16,
        "lenVar": 40
      },
      "kernels_config": {
        "python": {
          "delete_cmd_postfix": "",
          "delete_cmd_prefix": "del ",
          "library": "var_list.py",
          "varRefreshCmd": "print(var_dic_list())"
        },
        "r": {
          "delete_cmd_postfix": ") ",
          "delete_cmd_prefix": "rm(",
          "library": "var_list.r",
          "varRefreshCmd": "cat(var_dic_list()) "
        }
      },
      "types_to_exclude": [
        "module",
        "function",
        "builtin_function_or_method",
        "instance",
        "_Feature"
      ],
      "window_display": false
    },
    "colab": {
      "name": "sample_editor.ipynb",
      "provenance": [],
      "collapsed_sections": [],
      "include_colab_link": true
    },
    "accelerator": "GPU"
  },
  "cells": [
    {
      "cell_type": "markdown",
      "metadata": {
        "id": "view-in-github",
        "colab_type": "text"
      },
      "source": [
        "<a href=\"https://colab.research.google.com/github/seiya1911/Python_Lesson/blob/main/sample_editor.ipynb\" target=\"_parent\"><img src=\"https://colab.research.google.com/assets/colab-badge.svg\" alt=\"Open In Colab\"/></a>"
      ]
    },
    {
      "cell_type": "markdown",
      "metadata": {
        "id": "Jq7NwfZy-Xob"
      },
      "source": [
        "# sample exercises\n",
        "\n",
        "1. 課題の取り組み方について学習します。"
      ]
    },
    {
      "cell_type": "markdown",
      "metadata": {
        "id": "xMotbNGQ-Xod"
      },
      "source": [
        "### 1. 課題の取り組み方について学習します。"
      ]
    },
    {
      "cell_type": "markdown",
      "metadata": {
        "id": "Kk28O54D-Xoe"
      },
      "source": [
        "#### 1.1 「変数num1を定義して、num1に8を代入して、表示してください。」"
      ]
    },
    {
      "cell_type": "code",
      "metadata": {
        "colab": {
          "base_uri": "https://localhost:8080/"
        },
        "id": "lUTJTtnc-Xoe",
        "outputId": "de07c551-40fd-4ba3-d1b6-565b3263c020"
      },
      "source": [
        "num1 = 8\n",
        "print(num1)"
      ],
      "execution_count": null,
      "outputs": [
        {
          "output_type": "stream",
          "text": [
            "8\n"
          ],
          "name": "stdout"
        }
      ]
    },
    {
      "cell_type": "markdown",
      "metadata": {
        "id": "6xS21H7Q-Xoe"
      },
      "source": [
        "#### 1.2 「変数num2を定義して、num2に4を代入して、表示してください。」"
      ]
    },
    {
      "cell_type": "code",
      "metadata": {
        "colab": {
          "base_uri": "https://localhost:8080/"
        },
        "id": "cXvDMKT7-Xof",
        "outputId": "f75d1df7-0a75-4035-c577-bf210df898b6"
      },
      "source": [
        "num2 = 4\n",
        "print(num2)"
      ],
      "execution_count": null,
      "outputs": [
        {
          "output_type": "stream",
          "text": [
            "4\n"
          ],
          "name": "stdout"
        }
      ]
    },
    {
      "cell_type": "markdown",
      "metadata": {
        "id": "wVVeyu7I-Xof"
      },
      "source": [
        "#### 1.3 「変数num1とnum2の和を求めてください。」"
      ]
    },
    {
      "cell_type": "code",
      "metadata": {
        "colab": {
          "base_uri": "https://localhost:8080/"
        },
        "id": "Rq3JfHyA-Xof",
        "outputId": "2ee78880-742f-442c-8045-6b8468148698"
      },
      "source": [
        "num1 + num2"
      ],
      "execution_count": null,
      "outputs": [
        {
          "output_type": "stream",
          "text": [
            "12\n"
          ],
          "name": "stdout"
        }
      ]
    },
    {
      "cell_type": "markdown",
      "metadata": {
        "id": "wgDDuX6v-Xof"
      },
      "source": [
        "#### 1.4 「変数num1とnum2の差を求めてください。」"
      ]
    },
    {
      "cell_type": "code",
      "metadata": {
        "colab": {
          "base_uri": "https://localhost:8080/"
        },
        "id": "DhkXBxcV-Xof",
        "outputId": "0d5da511-837e-4b0a-8572-9be108ac7b39"
      },
      "source": [
        "num1 - num2"
      ],
      "execution_count": null,
      "outputs": [
        {
          "output_type": "stream",
          "text": [
            "4\n"
          ],
          "name": "stdout"
        }
      ]
    },
    {
      "cell_type": "markdown",
      "metadata": {
        "id": "WEcSa9Yq-Xog"
      },
      "source": [
        "#### 1.5 「変数num1とnum2の積を求めてください。」"
      ]
    },
    {
      "cell_type": "code",
      "metadata": {
        "colab": {
          "base_uri": "https://localhost:8080/"
        },
        "id": "U_CZ-H9L-Xog",
        "outputId": "185cfa86-cdb3-4f72-fe9b-b3f7d12b75a1"
      },
      "source": [
        "num1 * num２"
      ],
      "execution_count": null,
      "outputs": [
        {
          "output_type": "execute_result",
          "data": {
            "text/plain": [
              "32"
            ]
          },
          "metadata": {
            "tags": []
          },
          "execution_count": 10
        }
      ]
    },
    {
      "cell_type": "markdown",
      "metadata": {
        "id": "mVTjkC24-Xog"
      },
      "source": [
        "#### 1.6 「変数num1とnum2の商を求めてください。」"
      ]
    },
    {
      "cell_type": "code",
      "metadata": {
        "colab": {
          "base_uri": "https://localhost:8080/"
        },
        "id": "2ulB1T8l-Xog",
        "outputId": "0ef6f961-bcb9-4825-a0ae-777815306bf4"
      },
      "source": [
        "num1 / num2"
      ],
      "execution_count": null,
      "outputs": [
        {
          "output_type": "stream",
          "text": [
            "2.0\n"
          ],
          "name": "stdout"
        }
      ]
    }
  ]
}